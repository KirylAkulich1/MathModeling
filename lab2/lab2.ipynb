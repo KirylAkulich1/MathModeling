{
 "cells": [
  {
   "cell_type": "markdown",
   "source": [
    "В качестве генератора случайных чисел выберем когруэнтный метод из прошлой лаб раб "
   ],
   "metadata": {}
  },
  {
   "cell_type": "code",
   "execution_count": 10,
   "source": [
    "import math\n",
    "def congruent_method_generator():\n",
    "    m =10**10\n",
    "    x=get_x0(m)\n",
    "    a=197\n",
    "    while True:\n",
    "        x = a*x%m\n",
    "        yield x * 1.0 / m\n",
    "\n",
    "\n",
    "def get_x0(m):\n",
    "    for i in range(m-1,1,-1):\n",
    "        if math.gcd(i,m) == 1:\n",
    "            return i\n",
    "    return 1"
   ],
   "outputs": [],
   "metadata": {}
  },
  {
   "cell_type": "code",
   "execution_count": 8,
   "source": [
    "class RandomEventSimulator:\n",
    "\n",
    "    def __init__(self):\n",
    "        self._generator = congruent_method_generator()\n",
    "    \n",
    "    def check_event(self,p):\n",
    "        _p = next(self._generator)\n",
    "        return _p < p\n",
    "    "
   ],
   "outputs": [],
   "metadata": {}
  },
  {
   "cell_type": "code",
   "execution_count": 11,
   "source": [
    "p_list = [0.5, 0.1, 0.8]\n",
    "N_SAMPLES = 10**6\n",
    "simulator = RandomEventSimulator()\n",
    "\n",
    "\n",
    "for p in p_list:\n",
    "    answers = list()\n",
    "    for i in range(N_SAMPLES):\n",
    "        answers.append(simulator.check_event(p))\n",
    "    happend_event_count = sum(answers)\n",
    "    print(f\"p: {p} happend events count :{happend_event_count}\")\n"
   ],
   "outputs": [
    {
     "output_type": "stream",
     "name": "stdout",
     "text": [
      "p: 0.5 happend events count :500247\n",
      "p: 0.1 happend events count :100224\n",
      "p: 0.8 happend events count :800504\n"
     ]
    }
   ],
   "metadata": {}
  },
  {
   "cell_type": "code",
   "execution_count": 17,
   "source": [
    "import numpy as np\n",
    "class NotSimpleEventSimulator():\n",
    "\n",
    "    def __init__(self):\n",
    "        self._generator = congruent_method_generator()\n",
    "    \n",
    "    def _first(self,it,condition):\n",
    "        return next(x for x in it if condition(x))\n",
    "    def check_event(self,k):\n",
    "        p = next(self._generator)\n",
    "        _cumsum = enumerate(np.cumsum(k))\n",
    "        success_event = self._first(_cumsum, lambda x : p <=x[1])[0]\n",
    "        bool_vector = [False for _ in k]\n",
    "        bool_vector[success_event] = True\n",
    "        return bool_vector\n",
    "\n",
    "N_SAMPLES = 10**6\n",
    "\n",
    "k_list=[\n",
    "    [0.1,0.2,0.3,0.4],\n",
    "    [0.8,0.1,0.05,0.05],\n",
    "    [0.5,0.5]\n",
    "]\n",
    "\n",
    "simulator = NotSimpleEventSimulator()\n",
    "\n",
    "for k in k_list:\n",
    "    answers = list()\n",
    "    for i in range(N_SAMPLES):\n",
    "        answers.append(simulator.check_event(k))\n",
    "    event_freq = [0 for i in k]\n",
    "    for answer in answers:\n",
    "        for i in range(len(k)):\n",
    "            event_freq[i]+= answer[i]\n",
    "    print(f\"event freq:{event_freq}\")\n",
    "\n"
   ],
   "outputs": [
    {
     "output_type": "stream",
     "name": "stdout",
     "text": [
      "event freq:[100792, 200230, 298794, 400184]\n",
      "event freq:[799771, 100168, 50018, 50043]\n",
      "event freq:[499764, 500236]\n"
     ]
    }
   ],
   "metadata": {}
  },
  {
   "cell_type": "code",
   "execution_count": 24,
   "source": [
    "class DependentEventGenerator:\n",
    "\n",
    "    def __init__(self):\n",
    "        self.generator = congruent_method_generator()\n",
    "    \n",
    "    def A_B(self,x1,x2,p_a,p_b_a):\n",
    "        return x1<= p_a and x2<=p_b_a\n",
    "    def A_not_B(self,x1,x2,p_a,p_b_a):\n",
    "        return x1<= p_a and x2 > p_b_a\n",
    "    def not_A_B(self,x1,x2,p_a,p_b_a):\n",
    "        return x1> p_a and x2<= p_b_a\n",
    "    def not_A_not_B(self,x1,x2,p_a,p_b_a):\n",
    "        return x1 > p_a and x2> p_b_a\n",
    "    \n",
    "    def check_event(self,p_a,p_b_a):\n",
    "        x1= next(self.generator)\n",
    "        x2 = next(self.generator)\n",
    "        p_b_not_a = 1 - p_b_a\n",
    "\n",
    "        a_b = self.A_B(x1,x2,p_a,p_b_a)\n",
    "        a_not_b = self.A_not_B(x1,x2,p_a,p_b_a)\n",
    "        not_a_b = self.not_A_B(x1,x2,p_a,p_b_not_a)\n",
    "        not_a_not_b = self.not_A_not_B(x1,x2,p_a,p_b_not_a)\n",
    "\n",
    "        return [a_b,a_not_b,not_a_b,not_a_not_b]\n",
    "\n",
    "def find_p_b(p_b_a,p_a):\n",
    "    return p_b_a* p_a +(1-p_b_a)*(1-p_a)\n",
    "\n",
    "def find_p_not_b_a(p_b_a,p_a):\n",
    "    p_b = find_p_b(p_b_a,p_a)\n",
    "    print(f\"p_a:{p_a}, p_b_a: {p_b_a}, p_b:{p_b}\")\n",
    "    p_a_not_b = (p_a-1+p_b)/(2*p_b -1)\n",
    "    return p_a_not_b*(1-p_b)/p_a\n",
    "\n",
    "N_SAMPLES = 10**6\n",
    "p_a= [0.1,0.4,0.3]\n",
    "p_b_a =[0.2,0.1,0.4]\n",
    "k = len(p_a)\n",
    "\n",
    "p_ab = [p_a[i]*p_b_a[i] for i in range(k)]\n",
    "p_a_not_b = [p_a[i]*(1-p_b_a[i]) for i in range(k)]\n",
    "p_not_a_b =[(1- p_a[i])*find_p_not_b_a(p_b_a[i],p_a[i]) for i in range(k)]\n",
    "p_not_a_not_b =[(1-p_a[i])*(1-p_not_a_b[i]) for i in range(k)]\n",
    "\n",
    "simulator = DependentEventGenerator()\n",
    "\n",
    "for i in range(k):\n",
    "    answers = list()\n",
    "    for j in range(N_SAMPLES):\n",
    "        answers.append(simulator.check_event(p_a[i],p_b_a[i]))\n",
    "    \n",
    "    freq = [0 for _ in answers[0]]\n",
    "    for answer in answers:\n",
    "        for _i in range(len(answer)):\n",
    "            freq[_i]+=answer[_i]\n",
    "    \n",
    "    print([p_ab[i],p_a_not_b[i],p_not_a_b[i],p_not_a_not_b[i]])\n",
    "    print(freq)\n",
    "\n",
    "\n",
    "\n",
    "\n"
   ],
   "outputs": [
    {
     "output_type": "stream",
     "name": "stdout",
     "text": [
      "p_a:0.1, p_b_a: 0.2, p_b:0.7400000000000001\n",
      "p_a:0.4, p_b_a: 0.1, p_b:0.5800000000000001\n",
      "p_a:0.3, p_b_a: 0.4, p_b:0.54\n"
     ]
    },
    {
     "output_type": "error",
     "ename": "IndexError",
     "evalue": "list index out of range",
     "traceback": [
      "\u001b[0;31m---------------------------------------------------------------------------\u001b[0m",
      "\u001b[0;31mIndexError\u001b[0m                                Traceback (most recent call last)",
      "\u001b[0;32m/tmp/ipykernel_24568/2458692003.py\u001b[0m in \u001b[0;36m<module>\u001b[0;34m\u001b[0m\n\u001b[1;32m     56\u001b[0m             \u001b[0mfreq\u001b[0m\u001b[0;34m[\u001b[0m\u001b[0mi\u001b[0m\u001b[0;34m]\u001b[0m\u001b[0;34m+=\u001b[0m\u001b[0manswer\u001b[0m\u001b[0;34m[\u001b[0m\u001b[0mi\u001b[0m\u001b[0;34m]\u001b[0m\u001b[0;34m\u001b[0m\u001b[0;34m\u001b[0m\u001b[0m\n\u001b[1;32m     57\u001b[0m \u001b[0;34m\u001b[0m\u001b[0m\n\u001b[0;32m---> 58\u001b[0;31m     \u001b[0mprint\u001b[0m\u001b[0;34m(\u001b[0m\u001b[0;34m[\u001b[0m\u001b[0mp_ab\u001b[0m\u001b[0;34m[\u001b[0m\u001b[0mi\u001b[0m\u001b[0;34m]\u001b[0m\u001b[0;34m,\u001b[0m\u001b[0mp_a_not_b\u001b[0m\u001b[0;34m[\u001b[0m\u001b[0mi\u001b[0m\u001b[0;34m]\u001b[0m\u001b[0;34m,\u001b[0m\u001b[0mp_not_a_b\u001b[0m\u001b[0;34m[\u001b[0m\u001b[0mi\u001b[0m\u001b[0;34m]\u001b[0m\u001b[0;34m,\u001b[0m\u001b[0mp_not_a_not_b\u001b[0m\u001b[0;34m[\u001b[0m\u001b[0mi\u001b[0m\u001b[0;34m]\u001b[0m\u001b[0;34m]\u001b[0m\u001b[0;34m)\u001b[0m\u001b[0;34m\u001b[0m\u001b[0;34m\u001b[0m\u001b[0m\n\u001b[0m\u001b[1;32m     59\u001b[0m     \u001b[0mprint\u001b[0m\u001b[0;34m(\u001b[0m\u001b[0mfreq\u001b[0m\u001b[0;34m)\u001b[0m\u001b[0;34m\u001b[0m\u001b[0;34m\u001b[0m\u001b[0m\n\u001b[1;32m     60\u001b[0m \u001b[0;34m\u001b[0m\u001b[0m\n",
      "\u001b[0;31mIndexError\u001b[0m: list index out of range"
     ]
    }
   ],
   "metadata": {}
  }
 ],
 "metadata": {
  "orig_nbformat": 4,
  "language_info": {
   "name": "python",
   "version": "3.8.10",
   "mimetype": "text/x-python",
   "codemirror_mode": {
    "name": "ipython",
    "version": 3
   },
   "pygments_lexer": "ipython3",
   "nbconvert_exporter": "python",
   "file_extension": ".py"
  },
  "kernelspec": {
   "name": "python3",
   "display_name": "Python 3.8.10 64-bit"
  },
  "interpreter": {
   "hash": "916dbcbb3f70747c44a77c7bcd40155683ae19c65e1c03b4aa3499c5328201f1"
  }
 },
 "nbformat": 4,
 "nbformat_minor": 2
}