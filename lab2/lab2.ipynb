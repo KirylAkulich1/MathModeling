{
 "cells": [
  {
   "cell_type": "markdown",
   "source": [
    "В качестве генератора случайных чисел выберем когруэнтный метод из прошлой лаб раб "
   ],
   "metadata": {}
  },
  {
   "cell_type": "code",
   "execution_count": 10,
   "source": [
    "import math\n",
    "def congruent_method_generator():\n",
    "    m =10**10\n",
    "    x=get_x0(m)\n",
    "    a=197\n",
    "    while True:\n",
    "        x = a*x%m\n",
    "        yield x * 1.0 / m\n",
    "\n",
    "\n",
    "def get_x0(m):\n",
    "    for i in range(m-1,1,-1):\n",
    "        if math.gcd(i,m) == 1:\n",
    "            return i\n",
    "    return 1"
   ],
   "outputs": [],
   "metadata": {}
  },
  {
   "cell_type": "code",
   "execution_count": 8,
   "source": [
    "class RandomEventSimulator:\n",
    "\n",
    "    def __init__(self):\n",
    "        self._generator = congruent_method_generator()\n",
    "    \n",
    "    def check_event(self,p):\n",
    "        _p = next(self._generator)\n",
    "        return _p < p\n",
    "    "
   ],
   "outputs": [],
   "metadata": {}
  },
  {
   "cell_type": "code",
   "execution_count": 11,
   "source": [
    "p_list = [0.5, 0.1, 0.8]\n",
    "N_SAMPLES = 10**6\n",
    "simulator = RandomEventSimulator()\n",
    "\n",
    "\n",
    "for p in p_list:\n",
    "    answers = list()\n",
    "    for i in range(N_SAMPLES):\n",
    "        answers.append(simulator.check_event(p))\n",
    "    happend_event_count = sum(answers)\n",
    "    print(f\"p: {p} happend events count :{happend_event_count}\")\n"
   ],
   "outputs": [
    {
     "output_type": "stream",
     "name": "stdout",
     "text": [
      "p: 0.5 happend events count :500247\n",
      "p: 0.1 happend events count :100224\n",
      "p: 0.8 happend events count :800504\n"
     ]
    }
   ],
   "metadata": {}
  },
  {
   "cell_type": "code",
   "execution_count": 16,
   "source": [
    "import numpy as np\n",
    "class NotSimpleEventSimulator():\n",
    "\n",
    "    def __init__(self):\n",
    "        self._generator = congruent_method_generator()\n",
    "    \n",
    "    def _first(self,it,condition):\n",
    "        return next(x for x in it if condition(x))\n",
    "    def check_event(self,k):\n",
    "        p = next(self._generator)\n",
    "        _cumsum = enumerate(np.cumsum(k))\n",
    "        success_event = self._first(_cumsum, lambda x : p <=x[1])[0]\n",
    "        bool_vector = [False for _ in k]\n",
    "        bool_vector[success_event] = True\n",
    "        return bool_vector\n",
    "\n",
    "N_SAMPLES = 10**6\n",
    "\n",
    "k_list=[\n",
    "    [0.1,0.2,0.3,0.4],\n",
    "    [0.8,0.1,0.05,0.05],\n",
    "    [0.5,0.5]\n",
    "]\n",
    "\n",
    "simulator = NotSimpleEventSimulator()\n",
    "\n",
    "for k in k_list:\n",
    "    answers = list()\n",
    "    for i in range(N_SAMPLES):\n",
    "        answers.append(simulator.check_event(k))\n",
    "    event_freq = [0 for i in k]\n",
    "    for answer in answers:\n",
    "        for i in range(len(k)):\n",
    "            event_freq[i]+= answer[i]\n",
    "    print(f\"event freq:{event_freq}\")\n",
    "\n"
   ],
   "outputs": [
    {
     "output_type": "stream",
     "name": "stdout",
     "text": [
      "event freq:[0, 0, 0, 1]\n"
     ]
    }
   ],
   "metadata": {}
  }
 ],
 "metadata": {
  "orig_nbformat": 4,
  "language_info": {
   "name": "python",
   "version": "3.8.10",
   "mimetype": "text/x-python",
   "codemirror_mode": {
    "name": "ipython",
    "version": 3
   },
   "pygments_lexer": "ipython3",
   "nbconvert_exporter": "python",
   "file_extension": ".py"
  },
  "kernelspec": {
   "name": "python3",
   "display_name": "Python 3.8.10 64-bit"
  },
  "interpreter": {
   "hash": "916dbcbb3f70747c44a77c7bcd40155683ae19c65e1c03b4aa3499c5328201f1"
  }
 },
 "nbformat": 4,
 "nbformat_minor": 2
}