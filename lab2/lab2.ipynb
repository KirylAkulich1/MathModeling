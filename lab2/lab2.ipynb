{
 "cells": [
  {
   "cell_type": "markdown",
   "source": [
    "В качестве генератора случайных чисел выберем когруэнтный метод из прошлой лаб раб "
   ],
   "metadata": {}
  },
  {
   "cell_type": "code",
   "execution_count": 1,
   "source": [
    "import math\n",
    "def congruent_method_generator():\n",
    "    m =10**10\n",
    "    x=get_x0(m)\n",
    "    a=197\n",
    "    while True:\n",
    "        x = a*x%m\n",
    "        yield x * 1.0 / m\n",
    "\n",
    "\n",
    "def get_x0(m):\n",
    "    for i in range(m-1,1,-1):\n",
    "        if math.gcd(i,m) == 1:\n",
    "            return i\n",
    "    return 1"
   ],
   "outputs": [],
   "metadata": {}
  },
  {
   "cell_type": "code",
   "execution_count": 2,
   "source": [
    "class RandomEventSimulator:\n",
    "\n",
    "    def __init__(self):\n",
    "        self._generator = congruent_method_generator()\n",
    "    \n",
    "    def check_event(self,p):\n",
    "        _p = next(self._generator)\n",
    "        return _p < p\n",
    "    "
   ],
   "outputs": [],
   "metadata": {}
  },
  {
   "cell_type": "code",
   "execution_count": 3,
   "source": [
    "p_list = [0.5, 0.1, 0.8]\n",
    "N_SAMPLES = 10**6\n",
    "simulator = RandomEventSimulator()\n",
    "\n",
    "\n",
    "for p in p_list:\n",
    "    answers = list()\n",
    "    for i in range(N_SAMPLES):\n",
    "        answers.append(simulator.check_event(p))\n",
    "    happend_event_count = sum(answers)\n",
    "    print(f\"p: {p} happend events count :{happend_event_count}\")\n"
   ],
   "outputs": [
    {
     "output_type": "stream",
     "name": "stdout",
     "text": [
      "p: 0.5 happend events count :500247\n",
      "p: 0.1 happend events count :100224\n",
      "p: 0.8 happend events count :800504\n"
     ]
    }
   ],
   "metadata": {}
  },
  {
   "cell_type": "code",
   "execution_count": 6,
   "source": [
    "class IndependentEventsSimulator:\n",
    "    \n",
    "    def __init__(self) -> None:\n",
    "        self._random_event_simulator = RandomEventSimulator()\n",
    "    \n",
    "    def check_events(self,k):\n",
    "        result_vector = list()\n",
    "\n",
    "        for _k in k:\n",
    "            result_vector.append(self._random_event_simulator.check_event(_k))\n",
    "        \n",
    "        return result_vector"
   ],
   "outputs": [],
   "metadata": {}
  },
  {
   "cell_type": "code",
   "execution_count": 7,
   "source": [
    "N_SAMPLES = 10**6\n",
    "\n",
    "k_list=[\n",
    "    [0.1,0.2,0.3,0.4],\n",
    "    [0.8,0.1,0.05,0.05],\n",
    "    [0.5,0.5]\n",
    "]\n",
    "\n",
    "simulator = IndependentEventsSimulator()\n",
    "\n",
    "for k in k_list:\n",
    "    answers = list()\n",
    "    for i in range(N_SAMPLES):\n",
    "        answers.append(simulator.check_events(k))\n",
    "    event_freq = [0 for i in k]\n",
    "    for answer in answers:\n",
    "        for i in range(len(k)):\n",
    "            event_freq[i]+= answer[i]\n",
    "    print(f\"event freq:{event_freq}\")\n"
   ],
   "outputs": [
    {
     "output_type": "stream",
     "name": "stdout",
     "text": [
      "event freq:[99890, 200178, 300416, 399611]\n",
      "event freq:[799972, 99647, 49879, 49916]\n",
      "event freq:[500012, 500476]\n"
     ]
    }
   ],
   "metadata": {}
  },
  {
   "cell_type": "code",
   "execution_count": 17,
   "source": [
    "import numpy as np\n",
    "class NotSimpleEventSimulator():\n",
    "\n",
    "    def __init__(self):\n",
    "        self._generator = congruent_method_generator()\n",
    "    \n",
    "    def _first(self,it,condition):\n",
    "        return next(x for x in it if condition(x))\n",
    "    def check_event(self,k):\n",
    "        p = next(self._generator)\n",
    "        _cumsum = enumerate(np.cumsum(k))\n",
    "        success_event = self._first(_cumsum, lambda x : p <=x[1])[0]\n",
    "        bool_vector = [False for _ in k]\n",
    "        bool_vector[success_event] = True\n",
    "        return bool_vector\n",
    "\n",
    "N_SAMPLES = 10**6\n",
    "\n",
    "k_list=[\n",
    "    [0.1,0.2,0.3,0.4],\n",
    "    [0.8,0.1,0.05,0.05],\n",
    "    [0.5,0.5]\n",
    "]\n",
    "\n",
    "simulator = NotSimpleEventSimulator()\n",
    "\n",
    "for k in k_list:\n",
    "    answers = list()\n",
    "    for i in range(N_SAMPLES):\n",
    "        answers.append(simulator.check_event(k))\n",
    "    event_freq = [0 for i in k]\n",
    "    for answer in answers:\n",
    "        for i in range(len(k)):\n",
    "            event_freq[i]+= answer[i]\n",
    "    print(f\"event freq:{event_freq}\")\n",
    "\n"
   ],
   "outputs": [
    {
     "output_type": "stream",
     "name": "stdout",
     "text": [
      "event freq:[100792, 200230, 298794, 400184]\n",
      "event freq:[799771, 100168, 50018, 50043]\n",
      "event freq:[499764, 500236]\n"
     ]
    }
   ],
   "metadata": {}
  },
  {
   "cell_type": "code",
   "execution_count": 11,
   "source": [
    "class DependentEventGenerator:\n",
    "\n",
    "    def __init__(self):\n",
    "        self.generator = congruent_method_generator()\n",
    "    \n",
    "    def A_B(self,x1,x2,p_a,p_b_a):\n",
    "        return x1<= p_a and x2<=p_b_a\n",
    "    def A_not_B(self,x1,x2,p_a,p_b_a):\n",
    "        return x1<= p_a and x2 > p_b_a\n",
    "    def not_A_B(self,x1,x2,p_a,p_b_a):\n",
    "        return x1> p_a and x2<= p_b_a\n",
    "    def not_A_not_B(self,x1,x2,p_a,p_b_a):\n",
    "        return x1 > p_a and x2> p_b_a\n",
    "    \n",
    "    def check_event(self,p_a,p_b_a):\n",
    "        x1= next(self.generator)\n",
    "        x2 = next(self.generator)\n",
    "        p_b_not_a = 1 - p_b_a\n",
    "\n",
    "        a_b = self.A_B(x1,x2,p_a,p_b_a)\n",
    "        a_not_b = self.A_not_B(x1,x2,p_a,p_b_a)\n",
    "        not_a_b = self.not_A_B(x1,x2,p_a,p_b_not_a)\n",
    "        not_a_not_b = self.not_A_not_B(x1,x2,p_a,p_b_not_a)\n",
    "\n",
    "        return [a_b,a_not_b,not_a_b,not_a_not_b]\n",
    "\n",
    "def find_p_b(p_b_a,p_a):\n",
    "    return p_b_a* p_a +(1-p_b_a)*(1-p_a)\n",
    "\n",
    "def find_p_not_b_a(p_b_a,p_a):\n",
    "    p_b = find_p_b(p_b_a,p_a)\n",
    "    print(f\"p_a:{p_a}, p_b_a: {p_b_a}, p_b:{p_b}\")\n",
    "    p_a_not_b = (p_a-1+p_b)/(2*p_b -1)\n",
    "    return p_a_not_b*(1-p_b)/p_a\n",
    "\n",
    "N_SAMPLES = 10**6\n",
    "p_a= [0.1,0.4,0.3]\n",
    "p_b_a =[0.2,0.1,0.4]\n",
    "k = len(p_a)\n",
    "\n",
    "p = p_a[0]\n",
    "b = p_b_a[0]\n",
    "\n",
    "p_b = p*b+(1-b)*(1-)\n",
    "\n",
    "x = (1-(b*p+(1-b)*(1-p))-(1-p))/(1-2*p)\n",
    "\n",
    "print(x)\n",
    "\n",
    "p_ab = [p_a[i]*p_b_a[i] for i in range(k)]\n",
    "p_a_not_b = [p_a[i]*(1-p_b_a[i]) for i in range(k)]\n",
    "p_not_a_b =[(1- p_a[i])*find_p_not_b_a(p_b_a[i],p_a[i]) for i in range(k)]\n",
    "p_not_a_not_b =[(1-p_a[i])*(1-p_not_a_b[i]) for i in range(k)]\n",
    "\n",
    "simulator = DependentEventGenerator()\n",
    "\n",
    "for i in range(k):\n",
    "    answers = list()\n",
    "    for j in range(N_SAMPLES):\n",
    "        answers.append(simulator.check_event(p_a[i],p_b_a[i]))\n",
    "    \n",
    "    freq = [0 for _ in answers[0]]\n",
    "    for answer in answers:\n",
    "        for _i in range(len(answer)):\n",
    "            freq[_i]+=answer[_i]\n",
    "    \n",
    "    print([p_ab[i],p_a_not_b[i],p_not_a_b[i],p_not_a_not_b[i]])\n",
    "    print(freq)\n",
    "\n",
    "\n",
    "\n",
    "\n"
   ],
   "outputs": [
    {
     "output_type": "stream",
     "name": "stdout",
     "text": [
      "-0.8000000000000002\n",
      "p_a:0.1, p_b_a: 0.2, p_b:0.7400000000000001\n",
      "p_a:0.4, p_b_a: 0.1, p_b:0.5800000000000001\n",
      "p_a:0.3, p_b_a: 0.4, p_b:0.54\n",
      "[0.020000000000000004, 0.08000000000000002, -0.779999999999999, 1.601999999999999]\n",
      "[20528, 79982, 718159, 181331]\n",
      "[0.04000000000000001, 0.36000000000000004, -0.07874999999999953, 0.6472499999999997]\n",
      "[39986, 360153, 539884, 59977]\n",
      "[0.12, 0.18, -2.1466666666666634, 2.2026666666666643]\n",
      "[120581, 180081, 420312, 279026]\n"
     ]
    }
   ],
   "metadata": {}
  },
  {
   "cell_type": "code",
   "execution_count": 26,
   "source": [
    "import itertools\n",
    "\n",
    "keys = range(10)\n",
    "\n",
    "print(list(itertools.combinations(keys,2)))"
   ],
   "outputs": [
    {
     "output_type": "stream",
     "name": "stdout",
     "text": [
      "[(0, 1), (0, 2), (0, 3), (0, 4), (0, 5), (0, 6), (0, 7), (0, 8), (0, 9), (1, 2), (1, 3), (1, 4), (1, 5), (1, 6), (1, 7), (1, 8), (1, 9), (2, 3), (2, 4), (2, 5), (2, 6), (2, 7), (2, 8), (2, 9), (3, 4), (3, 5), (3, 6), (3, 7), (3, 8), (3, 9), (4, 5), (4, 6), (4, 7), (4, 8), (4, 9), (5, 6), (5, 7), (5, 8), (5, 9), (6, 7), (6, 8), (6, 9), (7, 8), (7, 9), (8, 9)]\n"
     ]
    }
   ],
   "metadata": {}
  },
  {
   "cell_type": "code",
   "execution_count": 30,
   "source": [
    "from collections import namedtuple \n",
    "import copy\n",
    "\n",
    "\n",
    "class FootballCupSimulator:\n",
    "    def __init__(self,names,powers) -> None:\n",
    "        self._commands_dict = dict()\n",
    "        self._teams_count = len(names)\n",
    "        self._team_type = namedtuple('Team',['name','power'])  \n",
    "        for i in range(len(names)):\n",
    "            self._commands_dict[names[i]] = self._team_type(names[i],powers)\n",
    "    \n",
    "    def play(self):\n",
    "        simulator = NotSimpleEventSimulator()\n",
    "        current_teams_count = self._teams_count\n",
    "        commands_list = copy.copy(self._commands_dict.keys)\n",
    "        while current_teams_count != 1:\n",
    "            pairs = list()\n",
    "            for i in range(current_teams_count//2):\n",
    "                frst_command = commands_list[i]\n",
    "                commands_list.remove(frst_command)\n",
    "                choose = simulator.check_event([1.0/len(commands_list)])\n",
    "                snd_command = choose.index(True)\n",
    "                commands_list.remove(snd_command)\n",
    "                pairs.append([frst_command,snd_command])\n",
    "            print(pairs)\n",
    "            current_teams_count //=2\n",
    "\n",
    "simulator = FootballCupSimulator(range(10),range(10))\n",
    "simulator.play()\n",
    "\n",
    "\n"
   ],
   "outputs": [
    {
     "output_type": "error",
     "ename": "TypeError",
     "evalue": "'builtin_function_or_method' object is not subscriptable",
     "traceback": [
      "\u001b[0;31m---------------------------------------------------------------------------\u001b[0m",
      "\u001b[0;31mTypeError\u001b[0m                                 Traceback (most recent call last)",
      "\u001b[0;32m/tmp/ipykernel_24568/1243255661.py\u001b[0m in \u001b[0;36m<module>\u001b[0;34m\u001b[0m\n\u001b[1;32m     28\u001b[0m \u001b[0;34m\u001b[0m\u001b[0m\n\u001b[1;32m     29\u001b[0m \u001b[0msimulator\u001b[0m \u001b[0;34m=\u001b[0m \u001b[0mFootballCupSimulator\u001b[0m\u001b[0;34m(\u001b[0m\u001b[0mrange\u001b[0m\u001b[0;34m(\u001b[0m\u001b[0;36m10\u001b[0m\u001b[0;34m)\u001b[0m\u001b[0;34m,\u001b[0m\u001b[0mrange\u001b[0m\u001b[0;34m(\u001b[0m\u001b[0;36m10\u001b[0m\u001b[0;34m)\u001b[0m\u001b[0;34m)\u001b[0m\u001b[0;34m\u001b[0m\u001b[0;34m\u001b[0m\u001b[0m\n\u001b[0;32m---> 30\u001b[0;31m \u001b[0msimulator\u001b[0m\u001b[0;34m.\u001b[0m\u001b[0mplay\u001b[0m\u001b[0;34m(\u001b[0m\u001b[0;34m)\u001b[0m\u001b[0;34m\u001b[0m\u001b[0;34m\u001b[0m\u001b[0m\n\u001b[0m\u001b[1;32m     31\u001b[0m \u001b[0;34m\u001b[0m\u001b[0m\n\u001b[1;32m     32\u001b[0m \u001b[0;34m\u001b[0m\u001b[0m\n",
      "\u001b[0;32m/tmp/ipykernel_24568/1243255661.py\u001b[0m in \u001b[0;36mplay\u001b[0;34m(self)\u001b[0m\n\u001b[1;32m     18\u001b[0m             \u001b[0mpairs\u001b[0m \u001b[0;34m=\u001b[0m \u001b[0mlist\u001b[0m\u001b[0;34m(\u001b[0m\u001b[0;34m)\u001b[0m\u001b[0;34m\u001b[0m\u001b[0;34m\u001b[0m\u001b[0m\n\u001b[1;32m     19\u001b[0m             \u001b[0;32mfor\u001b[0m \u001b[0mi\u001b[0m \u001b[0;32min\u001b[0m \u001b[0mrange\u001b[0m\u001b[0;34m(\u001b[0m\u001b[0mcurrent_teams_count\u001b[0m\u001b[0;34m//\u001b[0m\u001b[0;36m2\u001b[0m\u001b[0;34m)\u001b[0m\u001b[0;34m:\u001b[0m\u001b[0;34m\u001b[0m\u001b[0;34m\u001b[0m\u001b[0m\n\u001b[0;32m---> 20\u001b[0;31m                 \u001b[0mfrst_command\u001b[0m \u001b[0;34m=\u001b[0m \u001b[0mcommands_list\u001b[0m\u001b[0;34m[\u001b[0m\u001b[0mi\u001b[0m\u001b[0;34m]\u001b[0m\u001b[0;34m\u001b[0m\u001b[0;34m\u001b[0m\u001b[0m\n\u001b[0m\u001b[1;32m     21\u001b[0m                 \u001b[0mcommands_list\u001b[0m\u001b[0;34m.\u001b[0m\u001b[0mremove\u001b[0m\u001b[0;34m(\u001b[0m\u001b[0mfrst_command\u001b[0m\u001b[0;34m)\u001b[0m\u001b[0;34m\u001b[0m\u001b[0;34m\u001b[0m\u001b[0m\n\u001b[1;32m     22\u001b[0m                 \u001b[0mchoose\u001b[0m \u001b[0;34m=\u001b[0m \u001b[0msimulator\u001b[0m\u001b[0;34m.\u001b[0m\u001b[0mcheck_event\u001b[0m\u001b[0;34m(\u001b[0m\u001b[0;34m[\u001b[0m\u001b[0;36m1.0\u001b[0m\u001b[0;34m/\u001b[0m\u001b[0mlen\u001b[0m\u001b[0;34m(\u001b[0m\u001b[0mcommands_list\u001b[0m\u001b[0;34m)\u001b[0m\u001b[0;34m]\u001b[0m\u001b[0;34m)\u001b[0m\u001b[0;34m\u001b[0m\u001b[0;34m\u001b[0m\u001b[0m\n",
      "\u001b[0;31mTypeError\u001b[0m: 'builtin_function_or_method' object is not subscriptable"
     ]
    }
   ],
   "metadata": {}
  }
 ],
 "metadata": {
  "orig_nbformat": 4,
  "language_info": {
   "name": "python",
   "version": "3.9.7",
   "mimetype": "text/x-python",
   "codemirror_mode": {
    "name": "ipython",
    "version": 3
   },
   "pygments_lexer": "ipython3",
   "nbconvert_exporter": "python",
   "file_extension": ".py"
  },
  "kernelspec": {
   "name": "python3",
   "display_name": "Python 3.9.7 64-bit"
  },
  "interpreter": {
   "hash": "aee8b7b246df8f9039afb4144a1f6fd8d2ca17a180786b69acc140d282b71a49"
  }
 },
 "nbformat": 4,
 "nbformat_minor": 2
}