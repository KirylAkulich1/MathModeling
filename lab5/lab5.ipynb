{
 "cells": [
  {
   "cell_type": "markdown",
   "metadata": {},
   "source": [
    "# Акулич Кирилл 853504, Лабораторная работа 5 (Вариант 3)"
   ]
  },
  {
   "cell_type": "markdown",
   "metadata": {},
   "source": [
    "Железнодорожная сортировочная горка, на которую по дается простейший поток составов с интенсивностью X = 2 состава в час, представляет собой одноканальную СМО с неограниченной очередью. Время обслуживания (роспуска) состава на горке имеет показательное распределение со средним значением tобсл = 20 мин. Найти финальные вероятности состояний СМО, среднее число z составов, связанных с горкой, среднее число составов в очереди, среднее время tCOCT пребывания состава в СМО, среднее время tQ пребывания состава в очереди."
   ]
  },
  {
   "cell_type": "markdown",
   "metadata": {},
   "source": [
    "$\\lambda$ = 2 <br>\n",
    "$\\mu$ = 3"
   ]
  },
  {
   "cell_type": "markdown",
   "metadata": {},
   "source": [
    "Введем параметр $\\alpha$ = $\\lambda$ / $\\mu$  как среднее число заявок, приходящееся на время обслуживания одной заявки.<br>\n",
    "Сформулируем условие установления предельного страционарного режима:<br>\n",
    "$\\alpha$ < n, т.е реднее число заявок, приходящееся на время обслуживания одной заявки, не выходит за пределы возможностей n-канальной системы."
   ]
  },
  {
   "cell_type": "markdown",
   "metadata": {},
   "source": [
    "Проверим возможность установления предельного режима в нашем случае <br>\n",
    "$\\frac{2}{3} < 1$"
   ]
  },
  {
   "cell_type": "markdown",
   "metadata": {},
   "source": [
    "Срок ожидания обслуживания будем полагать случайной величиной с показательным распределением и параметром ν. Очевидно, что при ν→∞, система смешанного типа превращается в чистую систему с отказами, а при ν→0, система смешанного типа превращается в чистую систему с ожиданиями."
   ]
  },
  {
   "cell_type": "markdown",
   "metadata": {},
   "source": [
    "Используя формулировку выше, определим формулы для определния вероятностей состояний системы\n",
    "![](1.png)\n",
    "![](2.png)\n",
    "![](3.png)\n"
   ]
  },
  {
   "cell_type": "markdown",
   "metadata": {},
   "source": [
    "В нашем случае: <br>\n",
    "$ p_0 = \\frac{1}{1 + \\alpha + \\frac{\\alpha^2}{1-\\alpha}} $<br>\n",
    "$ p_1 = \\frac{\\alpha}{1 + \\alpha + \\frac{\\alpha^2}{1-\\alpha} }$<br>\n",
    "$ p_{1+s} = \\frac{\\alpha^{1+s}}{1 + \\alpha + \\frac{\\alpha^2}{1-\\alpha}}$<br>\n",
    "\n",
    "Найдем верятности состояния системы:"
   ]
  },
  {
   "cell_type": "code",
   "execution_count": 10,
   "metadata": {},
   "outputs": [
    {
     "name": "stdout",
     "output_type": "stream",
     "text": [
      "p[0] = 0.33333333333333337\n",
      "p[1] = 0.22222222222222224\n",
      "p[2] = 0.14814814814814817\n",
      "p[3] = 0.09876543209876543\n",
      "p[4] = 0.06584362139917695\n",
      "p[5] = 0.04389574759945129\n",
      "p[6] = 0.029263831732967528\n",
      "p[7] = 0.019509221155311684\n",
      "p[8] = 0.013006147436874456\n",
      "p[9] = 0.008670764957916305\n",
      "p[10] = 0.005780509971944203\n",
      "p[11] = 0.003853673314629468\n",
      "Сумма полученных вероятностей 0.9922926533707411\n"
     ]
    }
   ],
   "source": [
    "import math\n",
    "\n",
    "h = 2\n",
    "mu = 3\n",
    "alpha = h*1.0/mu\n",
    "\n",
    "def po(alpha):\n",
    "    return 1/(1+alpha + alpha**2/(1-alpha))\n",
    "\n",
    "def p_1(alpha):\n",
    "    return alpha/ (1+alpha + alpha**2/(1-alpha))\n",
    "\n",
    "def p_1_s(alpha,s):\n",
    "    return alpha**(1+s)/(1+alpha + alpha**2/(1-alpha))\n",
    "\n",
    "p_list = []\n",
    "p_list.append(po(alpha))\n",
    "p_list.append(p_1(alpha))\n",
    "print(f\"p[0] = {po(alpha)}\")\n",
    "print(f\"p[1] = {p_1(alpha)}\")\n",
    "\n",
    "for i in range(10):\n",
    "    p_list.append(p_1_s(alpha,i+1))\n",
    "    print(f\"p[{2+i}] = {p_1_s(alpha,i+1)}\")\n",
    "\n",
    "\n",
    "\n",
    "print(f'Сумма полученных вероятностей {sum(p_list)}')\n",
    "\n"
   ]
  },
  {
   "cell_type": "markdown",
   "metadata": {},
   "source": [
    "Среднее число составов на горке: <br>\n",
    "\n",
    "$ m_{составов}  = \\sum_{n=0}^{\\infty} p[n]*n = \\frac{\\alpha}{1 + \\alpha + \\frac{\\alpha^2}{1-\\alpha} } + \\sum_{s=0}^{\\infty} (1+s)*\\frac{\\alpha^{1+s}}{1 + \\alpha + \\frac{\\alpha^2}{1-\\alpha}}$ <br>\n",
    "\n",
    "$ m_{составов} =  \\frac{\\alpha}{1 + \\alpha + \\frac{\\alpha^2}{1-\\alpha}} + \\frac{1}{1 + \\alpha + \\frac{\\alpha^2}{1-\\alpha}}*  \\sum_{s=0}^{\\infty} (1+s)*\\alpha^{1+s}  = \\frac{\\alpha}{1 + \\alpha + \\frac{\\alpha^2}{1-\\alpha}} (1+ \\frac{1}{(\\alpha-1)^2}), т.к. \\sum_{s=0}^{\\infty} (1+s)*\\alpha^{1+s} = \\frac{\\alpha}{(\\alpha - 1)^2})$\n"
   ]
  },
  {
   "cell_type": "markdown",
   "metadata": {},
   "source": [
    "Число заявок в очереди:<br>\n",
    "![](4.png)<br>\n",
    "Число заявок для одноканального случая:<br>\n",
    "$ m_s =\\frac{\\alpha^2}{(1 + \\alpha + \\frac{\\alpha^2}{1-\\alpha})(\\alpha - 1)^2} $"
   ]
  },
  {
   "cell_type": "code",
   "execution_count": 11,
   "metadata": {},
   "outputs": [
    {
     "name": "stdout",
     "output_type": "stream",
     "text": [
      "Среднее количество вагонов в СМО: 1.9999999999999998\n",
      "Среднее количество вагонов в очереди: 1.3333333333333333\n"
     ]
    }
   ],
   "source": [
    "def m_all(alpha):\n",
    "    return alpha/(1+alpha + alpha**2/(1-alpha))*(alpha - 1)**(-2)\n",
    "def m_q(alpha):\n",
    "    return alpha**2/(1+alpha + alpha**2/(1-alpha))*(alpha - 1)**(-2)\n",
    "\n",
    "print(f'Среднее количество вагонов в СМО: {m_all(alpha)}')\n",
    "print(f'Среднее количество вагонов в очереди: {m_q(alpha)}')"
   ]
  },
  {
   "cell_type": "markdown",
   "metadata": {},
   "source": [
    "![](5.png)"
   ]
  },
  {
   "cell_type": "code",
   "execution_count": 12,
   "metadata": {},
   "outputs": [
    {
     "name": "stdout",
     "output_type": "stream",
     "text": [
      "Среднее время пребывания вагонов в горке 0.9999999999999999\n",
      "Среднее время пребывания вагонов в очереди 0.6666666666666666\n"
     ]
    }
   ],
   "source": [
    "def t_system(alpha,h):\n",
    "    L = m_all(alpha)\n",
    "    return L/h\n",
    "\n",
    "def t_q(alpha,h):\n",
    "    L = m_q(alpha)\n",
    "    return L/h\n",
    "\n",
    "\n",
    "print(f'Среднее время пребывания вагонов в горке {t_system(alpha,h)}')\n",
    "print(f'Среднее время пребывания вагонов в очереди {t_q(alpha,h)}')"
   ]
  }
 ],
 "metadata": {
  "interpreter": {
   "hash": "aee8b7b246df8f9039afb4144a1f6fd8d2ca17a180786b69acc140d282b71a49"
  },
  "kernelspec": {
   "display_name": "Python 3.9.7 64-bit",
   "language": "python",
   "name": "python3"
  },
  "language_info": {
   "codemirror_mode": {
    "name": "ipython",
    "version": 3
   },
   "file_extension": ".py",
   "mimetype": "text/x-python",
   "name": "python",
   "nbconvert_exporter": "python",
   "pygments_lexer": "ipython3",
   "version": "3.9.7"
  },
  "orig_nbformat": 4
 },
 "nbformat": 4,
 "nbformat_minor": 2
}
