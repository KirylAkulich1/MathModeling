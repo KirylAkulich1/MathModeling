{
 "cells": [
  {
   "cell_type": "markdown",
   "metadata": {},
   "source": [
    "# Лабрраторная работа 3\n",
    "## Акулич Кирилл 853504 (2 вариант)"
   ]
  },
  {
   "cell_type": "markdown",
   "metadata": {},
   "source": [
    "$$ f(x,y) = \\frac{1}{2}*sin(x+y)  \\forall x, y: 0 \\le x, y \\le \\frac{\\pi}{2}$$"
   ]
  },
  {
   "cell_type": "markdown",
   "metadata": {},
   "source": [
    "$$ \n",
    "    f(x) = \\int_0^\\frac{\\pi}{2} \\frac{1}{2}*sin(x+y) dy \n",
    "    f(x) = \\frac{1}{2}*(sin(x) +cos(x)) = \\frac{\\sqrt{2}}{2}*cos(x-\\frac{\\pi}{4}) \n",
    "$$"
   ]
  },
  {
   "cell_type": "markdown",
   "metadata": {},
   "source": [
    "Функцию распределения СВ х:\n",
    "$$\n",
    "    F(x) = \\int_0^x f(x) dx = \\int_0^x \\frac{\\sqrt{2}}{2}*cos(x-\\frac{\\pi}{4}) dx = \\frac{\\sqrt{2}}{2} * (sin(x-\\pi/4) - \\frac{\\sqrt{2}}{2})\n",
    "$$\n",
    "\n",
    "Найдем функцию, обратную к данной\n",
    "$$\n",
    "    x = arcsin(\\frac{2}{\\sqrt{2}}*R - \\frac{1}{\\sqrt{2}}) + \\pi/4\n",
    "$$"
   ]
  },
  {
   "cell_type": "markdown",
   "metadata": {},
   "source": [
    "Найдем условную функцию для y\n",
    "$$\n",
    "    \n",
    "$$"
   ]
  }
 ],
 "metadata": {
  "language_info": {
   "name": "python"
  },
  "orig_nbformat": 4
 },
 "nbformat": 4,
 "nbformat_minor": 2
}
