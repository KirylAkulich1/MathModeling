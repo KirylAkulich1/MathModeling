{
 "cells": [
  {
   "cell_type": "markdown",
   "metadata": {},
   "source": [
    "![](1.jpg)"
   ]
  },
  {
   "cell_type": "markdown",
   "metadata": {},
   "source": [
    "# Лабораторная Работа №4"
   ]
  },
  {
   "cell_type": "markdown",
   "metadata": {},
   "source": []
  },
  {
   "cell_type": "markdown",
   "metadata": {},
   "source": [
    "# Прогоним симмуляцию сети петри\n",
    "![](3.jpg)\n",
    "<br>\n",
    "Диаграмма маркировок:\n",
    "<br>\n",
    "![](4.jpg)"
   ]
  },
  {
   "cell_type": "markdown",
   "metadata": {},
   "source": [
    "Из симмуляции сети сожно сделать предлоположения о характеристиках сети:\n",
    "\n",
    "<ul>\n",
    "<li><input type=\"checkbox\" checked> Безопасная</li>\n",
    "<li><input type=\"checkbox\" checked>1-консервативная </li>\n",
    "<li><input type=\"checkbox\" checked>консервативная</li>\n",
    "</ul>"
   ]
  },
  {
   "cell_type": "markdown",
   "metadata": {},
   "source": []
  },
  {
   "cell_type": "markdown",
   "metadata": {},
   "source": [
    "![](8.png)"
   ]
  },
  {
   "cell_type": "markdown",
   "metadata": {},
   "source": [
    "![](9.png)"
   ]
  },
  {
   "cell_type": "markdown",
   "metadata": {},
   "source": []
  },
  {
   "cell_type": "code",
   "execution_count": 6,
   "metadata": {},
   "outputs": [
    {
     "name": "stdout",
     "output_type": "stream",
     "text": [
      "[[-1  1  1  0  0  1]\n",
      " [ 0 -1  0  1  0  0]\n",
      " [ 0  0 -1  0  1  0]\n",
      " [ 1  0  0 -1 -1 -1]]\n"
     ]
    }
   ],
   "source": [
    "import numpy as np\n",
    "\n",
    "D_input = np.array([\n",
    "    [1,0,0,0,0,0],\n",
    "    [0,1,0,0,0,0],\n",
    "    [0,0,1,0,0,0],\n",
    "    [0,0,0,1,1,1]])\n",
    "D_output = np.array([\n",
    "    [0,1,1,0,0,1],\n",
    "    [0,0,0,1,0,0],\n",
    "    [0,0,0,0,1,0],\n",
    "    [1,0,0,0,0,0]])\n",
    "\n",
    "Incidence_D = D_output - D_input\n",
    "print(Incidence_D)"
   ]
  },
  {
   "cell_type": "code",
   "execution_count": 20,
   "metadata": {},
   "outputs": [
    {
     "name": "stdout",
     "output_type": "stream",
     "text": [
      "(array([0., 0., 0., 0., 0., 0.]), array([], dtype=float64), 3, array([2.44948974e+00, 2.00000000e+00, 1.41421356e+00, 9.60895038e-17]))\n",
      "Является сохраняющей: True\n"
     ]
    }
   ],
   "source": [
    "'''\n",
    "import copy\n",
    "import scipy\n",
    "\n",
    "def check_if_safe(D):\n",
    "    try:\n",
    "        print(np.linalg.lstsq(D, np.zeros(D.shape[0]),rcond=None))\n",
    "        return True\n",
    "    except:\n",
    "        return False\n",
    "\n",
    "def check_if_can_be_reach(_n_1,_n_2,D):\n",
    "    n_1 = np.array(_n_1)\n",
    "    n_2 = np.array(_n_2)\n",
    "    n_diif = n_2 - n_1\n",
    "    try:\n",
    "        f = np.linalg.solve(D,n_diif)\n",
    "        return True,f\n",
    "    except:\n",
    "        return False\n",
    "\n",
    "\n",
    "def step(n,D_I):\n",
    "    rows_to_return = []\n",
    "    for i,row in enumerate(D_I):\n",
    "        if np.all(n >= row):\n",
    "            rows_to_return.append()\n",
    "    return rows_to_return\n",
    "            \n",
    "def check_for_parallel(_n_0,D_I,D):\n",
    "    N = 100\n",
    "    next_steps = [_n_0,]\n",
    "    n = 0\n",
    "    while n < N and len(current_vector)!=0:\n",
    "        current_vector = next_steps.pop()\n",
    "        steps = step(current_vector,D_I)\n",
    "        if len(steps) == 0:\n",
    "            return\n",
    "        if len(steps) > 1:\n",
    "            for i in range(len(steps)):\n",
    "                for j in range(i+1,len(steps)):\n",
    "                    f_st_input_vector =current_vector *D_I[steps[i]]\n",
    "                    s_nd_input_vector =current_vector * D_I[steps[j]]\n",
    "                    result_vector = f_st_input_vector + s_nd_input_vector\n",
    "                    if np.all(current_vector >= result_vector):\n",
    "                        return True, current_vector\n",
    "        [next_steps.append(current_vector+D[i]) for i in steps]\n",
    "    return False\n",
    "\n",
    "\n",
    "print(f\"Является сохраняющей: {check_if_safe(Incidence_D)}\")\n",
    "print(f\"Явдяется ли достижимой: {check_if_can_be_reach()}\")\n",
    "\n",
    "\n",
    "'''"
   ]
  }
 ],
 "metadata": {
  "interpreter": {
   "hash": "916dbcbb3f70747c44a77c7bcd40155683ae19c65e1c03b4aa3499c5328201f1"
  },
  "kernelspec": {
   "display_name": "Python 3.8.10 64-bit",
   "name": "python3"
  },
  "language_info": {
   "codemirror_mode": {
    "name": "ipython",
    "version": 3
   },
   "file_extension": ".py",
   "mimetype": "text/x-python",
   "name": "python",
   "nbconvert_exporter": "python",
   "pygments_lexer": "ipython3",
   "version": "3.8.10"
  },
  "orig_nbformat": 4
 },
 "nbformat": 4,
 "nbformat_minor": 2
}
