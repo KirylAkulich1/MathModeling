{
 "cells": [
  {
   "cell_type": "markdown",
   "metadata": {},
   "source": [
    "![](1.jpg)"
   ]
  },
  {
   "cell_type": "markdown",
   "metadata": {},
   "source": [
    "# Тип\n",
    "1(Теоретический).Сеть Петри называется бесконфликтной, если либо для каждой ее\n",
    "позиции piϵP существует не более одной исходящей дуги, либо любая позиция,\n",
    "являющейся входной для более чем одного перехода, является входной каждого <br>\n",
    "![](2.jpg)\n"
   ]
  },
  {
   "cell_type": "code",
   "execution_count": null,
   "metadata": {},
   "outputs": [],
   "source": []
  }
 ],
 "metadata": {
  "language_info": {
   "name": "python"
  },
  "orig_nbformat": 4
 },
 "nbformat": 4,
 "nbformat_minor": 2
}
